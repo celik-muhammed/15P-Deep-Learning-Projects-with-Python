{
 "cells": [
  {
   "attachments": {},
   "cell_type": "markdown",
   "metadata": {},
   "source": [
    "# colab Update"
   ]
  },
  {
   "cell_type": "code",
   "execution_count": null,
   "metadata": {},
   "outputs": [],
   "source": [
    "!pip install -Uq matplotlib tensorflow-addons scikeras[tensorflow] "
   ]
  },
  {
   "cell_type": "code",
   "execution_count": null,
   "metadata": {},
   "outputs": [],
   "source": [
    "%%time\n",
    "!python --version && \\\n",
    "pip list --outdated && \\\n",
    "sudo -H pip install $(pip list -o | tail +3 | grep -v sdist | awk '{print $1}') -U -q && \\\n",
    "pip install --upgrade jax jaxlib -q"
   ]
  },
  {
   "cell_type": "markdown",
   "metadata": {},
   "source": []
  }
 ],
 "metadata": {
  "language_info": {
   "name": "python"
  },
  "orig_nbformat": 4
 },
 "nbformat": 4,
 "nbformat_minor": 2
}
